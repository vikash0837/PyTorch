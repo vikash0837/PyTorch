{
  "nbformat": 4,
  "nbformat_minor": 0,
  "metadata": {
    "colab": {
      "name": "Pytorch Tutorial 1 .ipynb",
      "provenance": [],
      "include_colab_link": true
    },
    "kernelspec": {
      "name": "python3",
      "display_name": "Python 3"
    }
  },
  "cells": [
    {
      "cell_type": "markdown",
      "metadata": {
        "id": "view-in-github",
        "colab_type": "text"
      },
      "source": [
        "<a href=\"https://colab.research.google.com/github/vikash0837/PyTorch/blob/master/Pytorch_Tutorial_1_.ipynb\" target=\"_parent\"><img src=\"https://colab.research.google.com/assets/colab-badge.svg\" alt=\"Open In Colab\"/></a>"
      ]
    },
    {
      "cell_type": "markdown",
      "metadata": {
        "id": "j7zGgSdk-47J",
        "colab_type": "text"
      },
      "source": [
        "# **Learning Pytorch Tutorial basics**\n",
        "[Source](https://pytorch.org/tutorials/beginner/blitz/tensor_tutorial.html#sphx-glr-beginner-blitz-tensor-tutorial-py)\n"
      ]
    },
    {
      "cell_type": "markdown",
      "metadata": {
        "id": "s_mrWkUzejE-",
        "colab_type": "text"
      },
      "source": [
        "# **What is pytorch**"
      ]
    },
    {
      "cell_type": "markdown",
      "metadata": {
        "id": "5tlkGejlfby9",
        "colab_type": "text"
      },
      "source": [
        "What is tensor?\n",
        "\n",
        "> Tensors are similar to NumPy’s ndarrays, with the addition being that Tensors can also be used on a GPU to accelerate computing.\n"
      ]
    },
    {
      "cell_type": "code",
      "metadata": {
        "id": "vL7RCDhleb8j",
        "colab_type": "code",
        "colab": {}
      },
      "source": [
        "# import pytorch\n",
        "import torch"
      ],
      "execution_count": 0,
      "outputs": []
    },
    {
      "cell_type": "code",
      "metadata": {
        "id": "eFkVweC6f2_h",
        "colab_type": "code",
        "outputId": "fe1f8cc3-065f-43d7-a133-1f3c2819f13a",
        "colab": {
          "base_uri": "https://localhost:8080/",
          "height": 102
        }
      },
      "source": [
        "#Construct a 5x3 matrix, uninitialized:\n",
        "x = torch.empty(5,3)\n",
        "print(x)"
      ],
      "execution_count": 0,
      "outputs": [
        {
          "output_type": "stream",
          "text": [
            "tensor([[2.7094e-36, 0.0000e+00, 0.0000e+00],\n",
            "        [0.0000e+00, 0.0000e+00, 0.0000e+00],\n",
            "        [0.0000e+00, 0.0000e+00, 2.8026e-45],\n",
            "        [0.0000e+00, 1.1210e-44, 0.0000e+00],\n",
            "        [1.4013e-45, 0.0000e+00, 0.0000e+00]])\n"
          ],
          "name": "stdout"
        }
      ]
    },
    {
      "cell_type": "code",
      "metadata": {
        "id": "2ZvVeosdf__f",
        "colab_type": "code",
        "outputId": "8bdcaca6-c339-45d3-ab35-c8acf086d7d8",
        "colab": {
          "base_uri": "https://localhost:8080/",
          "height": 102
        }
      },
      "source": [
        "#Construct a randomly initialized matrix:\n",
        "x = torch.rand(5,3)\n",
        "print(x)"
      ],
      "execution_count": 0,
      "outputs": [
        {
          "output_type": "stream",
          "text": [
            "tensor([[0.9412, 0.4282, 0.5352],\n",
            "        [0.3230, 0.5266, 0.1650],\n",
            "        [0.4645, 0.9926, 0.8089],\n",
            "        [0.1282, 0.6461, 0.1631],\n",
            "        [0.6677, 0.2246, 0.4553]])\n"
          ],
          "name": "stdout"
        }
      ]
    },
    {
      "cell_type": "code",
      "metadata": {
        "id": "DNvBaRjlgMSJ",
        "colab_type": "code",
        "outputId": "5a19d07c-8750-4896-d123-e3eb62c0d73f",
        "colab": {
          "base_uri": "https://localhost:8080/",
          "height": 102
        }
      },
      "source": [
        "#Construct a matrix filled zeros and of dtype long:\n",
        "x = torch.zeros(5,3, dtype=torch.long)\n",
        "print(x)"
      ],
      "execution_count": 0,
      "outputs": [
        {
          "output_type": "stream",
          "text": [
            "tensor([[0, 0, 0],\n",
            "        [0, 0, 0],\n",
            "        [0, 0, 0],\n",
            "        [0, 0, 0],\n",
            "        [0, 0, 0]])\n"
          ],
          "name": "stdout"
        }
      ]
    },
    {
      "cell_type": "code",
      "metadata": {
        "id": "7gs3zilOgjYe",
        "colab_type": "code",
        "outputId": "26526fe1-405b-4887-9df5-e970d04bf6a3",
        "colab": {
          "base_uri": "https://localhost:8080/",
          "height": 34
        }
      },
      "source": [
        "#Construct a tensor directly from data:\n",
        "x = torch.tensor([5.5,3])\n",
        "print(x)"
      ],
      "execution_count": 0,
      "outputs": [
        {
          "output_type": "stream",
          "text": [
            "tensor([5.5000, 3.0000])\n"
          ],
          "name": "stdout"
        }
      ]
    },
    {
      "cell_type": "code",
      "metadata": {
        "id": "EoyUxsvEg6Jp",
        "colab_type": "code",
        "outputId": "2c527ed0-f9e4-4ee9-a105-2d80c586052a",
        "colab": {
          "base_uri": "https://localhost:8080/",
          "height": 102
        }
      },
      "source": [
        "#Create a tensor based on an existing tensor. These methods will reuse properties of the input tensor, e.g. dtype, unless new values are provided by user\n",
        "x = x.new_ones(5,3, dtype=torch.long)\n",
        "print(x)\n"
      ],
      "execution_count": 0,
      "outputs": [
        {
          "output_type": "stream",
          "text": [
            "tensor([[1, 1, 1],\n",
            "        [1, 1, 1],\n",
            "        [1, 1, 1],\n",
            "        [1, 1, 1],\n",
            "        [1, 1, 1]])\n"
          ],
          "name": "stdout"
        }
      ]
    },
    {
      "cell_type": "code",
      "metadata": {
        "id": "joXy4m-0h7eu",
        "colab_type": "code",
        "outputId": "de53f451-ffff-4a68-87ac-c5364c848684",
        "colab": {
          "base_uri": "https://localhost:8080/",
          "height": 102
        }
      },
      "source": [
        "x = torch.randn_like(x,dtype=torch.double)\n",
        "print(x)"
      ],
      "execution_count": 0,
      "outputs": [
        {
          "output_type": "stream",
          "text": [
            "tensor([[ 0.3483, -0.1353,  0.2126],\n",
            "        [ 0.1525,  1.0402,  0.1865],\n",
            "        [ 0.0962,  1.5675,  0.3869],\n",
            "        [ 0.3639,  0.3263,  2.2082],\n",
            "        [-0.2193, -0.6444,  1.5020]], dtype=torch.float64)\n"
          ],
          "name": "stdout"
        }
      ]
    },
    {
      "cell_type": "code",
      "metadata": {
        "id": "PLEKiqFEiKyO",
        "colab_type": "code",
        "outputId": "6717be98-0bc2-485b-8238-0efba5461206",
        "colab": {
          "base_uri": "https://localhost:8080/",
          "height": 34
        }
      },
      "source": [
        "# get size\n",
        "print(x.size())"
      ],
      "execution_count": 0,
      "outputs": [
        {
          "output_type": "stream",
          "text": [
            "torch.Size([5, 3])\n"
          ],
          "name": "stdout"
        }
      ]
    },
    {
      "cell_type": "markdown",
      "metadata": {
        "id": "j1-GEbSoiep_",
        "colab_type": "text"
      },
      "source": [
        "**`Note`**: torch.Size is in fact a tuple, so it supports all tuple operations."
      ]
    },
    {
      "cell_type": "code",
      "metadata": {
        "id": "16_eoUuXiRT_",
        "colab_type": "code",
        "outputId": "0b100ba4-a21e-4640-cd5f-060ffa8d0575",
        "colab": {
          "base_uri": "https://localhost:8080/",
          "height": 272
        }
      },
      "source": [
        "y = torch.rand(5,3)\n",
        "z = x + y\n",
        "print('X=',x,'\\n','Y=',y,'\\n','Z=',z)"
      ],
      "execution_count": 0,
      "outputs": [
        {
          "output_type": "stream",
          "text": [
            "X= tensor([[ 0.3483, -0.1353,  0.2126],\n",
            "        [ 0.1525,  1.0402,  0.1865],\n",
            "        [ 0.0962,  1.5675,  0.3869],\n",
            "        [ 0.3639,  0.3263,  2.2082],\n",
            "        [-0.2193, -0.6444,  1.5020]], dtype=torch.float64) \n",
            " Y= tensor([[0.3783, 0.2750, 0.9853],\n",
            "        [0.1278, 0.6404, 0.8398],\n",
            "        [0.9994, 0.9125, 0.9513],\n",
            "        [0.6075, 0.9838, 0.0287],\n",
            "        [0.9074, 0.2566, 0.8413]]) \n",
            " Z= tensor([[ 0.7265,  0.1398,  1.1979],\n",
            "        [ 0.2803,  1.6806,  1.0263],\n",
            "        [ 1.0956,  2.4799,  1.3383],\n",
            "        [ 0.9714,  1.3101,  2.2370],\n",
            "        [ 0.6881, -0.3878,  2.3433]], dtype=torch.float64)\n"
          ],
          "name": "stdout"
        }
      ]
    },
    {
      "cell_type": "code",
      "metadata": {
        "id": "LZsj_V8ci9xu",
        "colab_type": "code",
        "outputId": "2c33e37f-127c-4812-c9a4-82204c59c4dc",
        "colab": {
          "base_uri": "https://localhost:8080/",
          "height": 102
        }
      },
      "source": [
        "# Additional add syntax\n",
        "print(torch.add(x,y))"
      ],
      "execution_count": 0,
      "outputs": [
        {
          "output_type": "stream",
          "text": [
            "tensor([[ 0.7265,  0.1398,  1.1979],\n",
            "        [ 0.2803,  1.6806,  1.0263],\n",
            "        [ 1.0956,  2.4799,  1.3383],\n",
            "        [ 0.9714,  1.3101,  2.2370],\n",
            "        [ 0.6881, -0.3878,  2.3433]], dtype=torch.float64)\n"
          ],
          "name": "stdout"
        }
      ]
    },
    {
      "cell_type": "code",
      "metadata": {
        "id": "mHIIV_u8jUnO",
        "colab_type": "code",
        "colab": {}
      },
      "source": [
        "# Addition: providing an output tensor as argument\n",
        " result = torch.empty(5,3) # Garbage value initialization\n"
      ],
      "execution_count": 0,
      "outputs": []
    },
    {
      "cell_type": "code",
      "metadata": {
        "id": "KYDf43nHjsk9",
        "colab_type": "code",
        "outputId": "e906051a-6903-4e89-a08e-a73372fa4dd5",
        "colab": {
          "base_uri": "https://localhost:8080/",
          "height": 102
        }
      },
      "source": [
        " torch.add(x,y,out = result)\n",
        " print(result)"
      ],
      "execution_count": 0,
      "outputs": [
        {
          "output_type": "stream",
          "text": [
            "tensor([[ 0.7265,  0.1398,  1.1979],\n",
            "        [ 0.2803,  1.6806,  1.0263],\n",
            "        [ 1.0956,  2.4799,  1.3383],\n",
            "        [ 0.9714,  1.3101,  2.2370],\n",
            "        [ 0.6881, -0.3878,  2.3433]])\n"
          ],
          "name": "stdout"
        }
      ]
    },
    {
      "cell_type": "code",
      "metadata": {
        "id": "4-28GXKOj-GO",
        "colab_type": "code",
        "outputId": "fc4909d7-6244-43cf-c28b-682a4a6d094e",
        "colab": {
          "base_uri": "https://localhost:8080/",
          "height": 102
        }
      },
      "source": [
        "# Addition: in-place\n",
        "y.add_(x)\n",
        "print(y)"
      ],
      "execution_count": 0,
      "outputs": [
        {
          "output_type": "stream",
          "text": [
            "tensor([[ 0.7265,  0.1398,  1.1979],\n",
            "        [ 0.2803,  1.6806,  1.0263],\n",
            "        [ 1.0956,  2.4799,  1.3383],\n",
            "        [ 0.9714,  1.3101,  2.2370],\n",
            "        [ 0.6881, -0.3878,  2.3433]])\n"
          ],
          "name": "stdout"
        }
      ]
    },
    {
      "cell_type": "markdown",
      "metadata": {
        "id": "ZYkfeqHMk12R",
        "colab_type": "text"
      },
      "source": [
        "**Note:** `Any operation that mutates a tensor in-place is post-fixed with an _. For example: x.copy_(y), x.t_(), will change x.`\n",
        "\n",
        "\n",
        "\n"
      ]
    },
    {
      "cell_type": "code",
      "metadata": {
        "id": "7vbGYShEkZT9",
        "colab_type": "code",
        "outputId": "6f4448a7-b5d4-4874-d2a2-860df1a18652",
        "colab": {
          "base_uri": "https://localhost:8080/",
          "height": 34
        }
      },
      "source": [
        "# You can use standard NumPy-like indexing with all bells and whistles!\n",
        "print(x[:, 1])"
      ],
      "execution_count": 0,
      "outputs": [
        {
          "output_type": "stream",
          "text": [
            "tensor([-0.1353,  1.0402,  1.5675,  0.3263, -0.6444], dtype=torch.float64)\n"
          ],
          "name": "stdout"
        }
      ]
    },
    {
      "cell_type": "code",
      "metadata": {
        "id": "4cIrh11Slp0C",
        "colab_type": "code",
        "outputId": "17374dd9-8785-4101-f2e4-8f8eff2b0a3d",
        "colab": {
          "base_uri": "https://localhost:8080/",
          "height": 68
        }
      },
      "source": [
        "# Resizing: If you want to resize/reshape tensor, you can use torch.view:\n",
        "x = torch.randn(4,4)\n",
        "y = x.view(16)\n",
        "z = x.view(-1,8) # the size -1 is inferred from other dimention\n",
        "print(\"X size=:\",x.size(),'\\n','Y size=:',y.size(),'\\n','Z size=:',z.size())"
      ],
      "execution_count": 0,
      "outputs": [
        {
          "output_type": "stream",
          "text": [
            "X size=: torch.Size([4, 4]) \n",
            " Y size=: torch.Size([16]) \n",
            " Z size=: torch.Size([2, 8])\n"
          ],
          "name": "stdout"
        }
      ]
    },
    {
      "cell_type": "code",
      "metadata": {
        "id": "a4PWOPhbmlG-",
        "colab_type": "code",
        "outputId": "c8cdc831-2f04-487c-c8a5-0a9e189e918a",
        "colab": {
          "base_uri": "https://localhost:8080/",
          "height": 51
        }
      },
      "source": [
        "# If you have a one element tensor, use .item() to get the value as a Python number\n",
        "x = torch.rand(1)\n",
        "print(x)\n",
        "print(x.item())"
      ],
      "execution_count": 0,
      "outputs": [
        {
          "output_type": "stream",
          "text": [
            "tensor([0.3591])\n",
            "0.3591499328613281\n"
          ],
          "name": "stdout"
        }
      ]
    },
    {
      "cell_type": "code",
      "metadata": {
        "id": "EAb_70dgnXTf",
        "colab_type": "code",
        "outputId": "dd2641a9-ce05-4af7-ccf0-b9770f898c04",
        "colab": {
          "base_uri": "https://localhost:8080/",
          "height": 51
        }
      },
      "source": [
        "x = torch.rand(1,2)\n",
        "print(x)\n",
        "print(x[:,1])\n"
      ],
      "execution_count": 0,
      "outputs": [
        {
          "output_type": "stream",
          "text": [
            "tensor([[0.3805, 0.9254]])\n",
            "tensor([0.9254])\n"
          ],
          "name": "stdout"
        }
      ]
    },
    {
      "cell_type": "markdown",
      "metadata": {
        "id": "zAeW6Xmd7c-l",
        "colab_type": "text"
      },
      "source": [
        "# NumPy Bridge\n",
        "\n",
        "\n",
        "> Converting a Torch Tensor to a NumPy array and vice versa is a breeze.\n",
        "\n",
        "> The Torch Tensor and NumPy array will share their underlying memory locations (if the Torch Tensor is on CPU), and changing one will change the other.\n",
        "\n"
      ]
    },
    {
      "cell_type": "code",
      "metadata": {
        "id": "H3w7Hw5qnz2u",
        "colab_type": "code",
        "outputId": "07a09d60-3031-424b-d1f8-09b52c379796",
        "colab": {
          "base_uri": "https://localhost:8080/",
          "height": 34
        }
      },
      "source": [
        "# Converting a Torch Tensor to a NumPy Array\n",
        "a = torch.ones(5)\n",
        "print(a)"
      ],
      "execution_count": 0,
      "outputs": [
        {
          "output_type": "stream",
          "text": [
            "tensor([1., 1., 1., 1., 1.])\n"
          ],
          "name": "stdout"
        }
      ]
    },
    {
      "cell_type": "code",
      "metadata": {
        "id": "Jxy8EVlN73Kh",
        "colab_type": "code",
        "outputId": "80c08a86-75a4-4ff2-d151-7a69eece13a7",
        "colab": {
          "base_uri": "https://localhost:8080/",
          "height": 34
        }
      },
      "source": [
        "b = a.numpy()\n",
        "print(b)"
      ],
      "execution_count": 0,
      "outputs": [
        {
          "output_type": "stream",
          "text": [
            "[1. 1. 1. 1. 1.]\n"
          ],
          "name": "stdout"
        }
      ]
    },
    {
      "cell_type": "code",
      "metadata": {
        "id": "PKK3eoZv76Pd",
        "colab_type": "code",
        "outputId": "1d16a6d8-80cc-4e21-f0b7-c38a39292fb2",
        "colab": {
          "base_uri": "https://localhost:8080/",
          "height": 51
        }
      },
      "source": [
        "a.add_(1)\n",
        "print(a)\n",
        "print(b)"
      ],
      "execution_count": 0,
      "outputs": [
        {
          "output_type": "stream",
          "text": [
            "tensor([2., 2., 2., 2., 2.])\n",
            "[2. 2. 2. 2. 2.]\n"
          ],
          "name": "stdout"
        }
      ]
    },
    {
      "cell_type": "code",
      "metadata": {
        "id": "V8PV1HPp8D5v",
        "colab_type": "code",
        "colab": {}
      },
      "source": [
        ""
      ],
      "execution_count": 0,
      "outputs": []
    },
    {
      "cell_type": "markdown",
      "metadata": {
        "id": "pKvpaFaT8HQQ",
        "colab_type": "text"
      },
      "source": [
        "**Converting NumPy Array to Torch Tensor**"
      ]
    },
    {
      "cell_type": "code",
      "metadata": {
        "id": "nt85QYb-8KVB",
        "colab_type": "code",
        "outputId": "2642b554-4e29-4d95-fed2-a56d9150bf7d",
        "colab": {
          "base_uri": "https://localhost:8080/",
          "height": 51
        }
      },
      "source": [
        "# See how changing the np array won't changed the Torch Tensor automatically\n",
        "import numpy as np\n",
        "a = np.ones(5)\n",
        "b = torch.from_numpy(a)\n",
        "print(a)\n",
        "print(b)"
      ],
      "execution_count": 0,
      "outputs": [
        {
          "output_type": "stream",
          "text": [
            "[1. 1. 1. 1. 1.]\n",
            "tensor([1., 1., 1., 1., 1.], dtype=torch.float64)\n"
          ],
          "name": "stdout"
        }
      ]
    },
    {
      "cell_type": "code",
      "metadata": {
        "id": "I51fYIUd8ZtM",
        "colab_type": "code",
        "outputId": "b612872f-8a44-44dd-e4f2-c4a7d6fe9414",
        "colab": {
          "base_uri": "https://localhost:8080/",
          "height": 51
        }
      },
      "source": [
        "a = a + 1\n",
        "print(a)\n",
        "print(b)"
      ],
      "execution_count": 0,
      "outputs": [
        {
          "output_type": "stream",
          "text": [
            "[2. 2. 2. 2. 2.]\n",
            "tensor([1., 1., 1., 1., 1.], dtype=torch.float64)\n"
          ],
          "name": "stdout"
        }
      ]
    },
    {
      "cell_type": "code",
      "metadata": {
        "id": "tzSBk-CK8d2v",
        "colab_type": "code",
        "outputId": "4f992ed7-71b3-4adf-eb2e-395a75a31ae5",
        "colab": {
          "base_uri": "https://localhost:8080/",
          "height": 51
        }
      },
      "source": [
        "np.add(a,1,out=a)\n",
        "print(a)\n",
        "print(b)"
      ],
      "execution_count": 0,
      "outputs": [
        {
          "output_type": "stream",
          "text": [
            "[3. 3. 3. 3. 3.]\n",
            "tensor([1., 1., 1., 1., 1.], dtype=torch.float64)\n"
          ],
          "name": "stdout"
        }
      ]
    },
    {
      "cell_type": "code",
      "metadata": {
        "id": "I2rZfamo9hAT",
        "colab_type": "code",
        "outputId": "363fc137-88ae-454e-e899-e6199c017d04",
        "colab": {
          "base_uri": "https://localhost:8080/",
          "height": 51
        }
      },
      "source": [
        "a = np.ones(5)\n",
        "b = torch.from_numpy(a)\n",
        "a = np.add(a,1)\n",
        "print(a)\n",
        "print(b)"
      ],
      "execution_count": 0,
      "outputs": [
        {
          "output_type": "stream",
          "text": [
            "[2. 2. 2. 2. 2.]\n",
            "tensor([1., 1., 1., 1., 1.], dtype=torch.float64)\n"
          ],
          "name": "stdout"
        }
      ]
    },
    {
      "cell_type": "code",
      "metadata": {
        "id": "l7QBuyQc8veO",
        "colab_type": "code",
        "outputId": "3829dc9e-177b-401c-ba27-ccd750587aec",
        "colab": {
          "base_uri": "https://localhost:8080/",
          "height": 51
        }
      },
      "source": [
        "# See how changing the np array changed the Torch Tensor automatically\n",
        "a = np.ones(5)\n",
        "b = torch.from_numpy(a)\n",
        "np.add(a,1,out=a)\n",
        "print(a)\n",
        "print(b)"
      ],
      "execution_count": 0,
      "outputs": [
        {
          "output_type": "stream",
          "text": [
            "[2. 2. 2. 2. 2.]\n",
            "tensor([2., 2., 2., 2., 2.], dtype=torch.float64)\n"
          ],
          "name": "stdout"
        }
      ]
    },
    {
      "cell_type": "markdown",
      "metadata": {
        "id": "J8RzNTHZ9omi",
        "colab_type": "text"
      },
      "source": [
        " **Note**: `All the Tensors on the CPU except a CharTensor support converting to NumPy and back.`"
      ]
    },
    {
      "cell_type": "markdown",
      "metadata": {
        "id": "qXxyv3Gk97A3",
        "colab_type": "text"
      },
      "source": [
        "# **CUDA Tensors**\n",
        "\n",
        "\n",
        "> Tensors can be moved onto any device using the .to method.\n",
        "\n"
      ]
    },
    {
      "cell_type": "code",
      "metadata": {
        "id": "vPKp-vdi9DZd",
        "colab_type": "code",
        "outputId": "7e2defa5-746c-4e28-fd7c-3819eb5980c2",
        "colab": {
          "base_uri": "https://localhost:8080/",
          "height": 34
        }
      },
      "source": [
        "# let us run this cell only if CUDA is available\n",
        "# We will use ``torch.device`` objects to move tensors in and out of GPU\n",
        "if torch.cuda.is_available():\n",
        "    device = torch.device(\"cuda\")          # a CUDA device object\n",
        "    y = torch.ones_like(x, device=device)  # directly create a tensor on GPU\n",
        "    x = x.to(device)                       # or just use strings ``.to(\"cuda\")``\n",
        "    z = x + y\n",
        "    print(z)\n",
        "    print(z.to(\"cpu\", torch.double))       # ``.to`` can also change dtype together!\n",
        "else:\n",
        "  print(\"Cuda is not available\")"
      ],
      "execution_count": 0,
      "outputs": [
        {
          "output_type": "stream",
          "text": [
            "Cuda is not available\n"
          ],
          "name": "stdout"
        }
      ]
    },
    {
      "cell_type": "code",
      "metadata": {
        "id": "yXIl7buV-XV1",
        "colab_type": "code",
        "colab": {}
      },
      "source": [
        ""
      ],
      "execution_count": 0,
      "outputs": []
    }
  ]
}